{
  "nbformat": 4,
  "nbformat_minor": 0,
  "metadata": {
    "colab": {
      "provenance": [],
      "include_colab_link": true
    },
    "kernelspec": {
      "name": "python3",
      "display_name": "Python 3"
    },
    "language_info": {
      "name": "python"
    }
  },
  "cells": [
    {
      "cell_type": "markdown",
      "metadata": {
        "id": "view-in-github",
        "colab_type": "text"
      },
      "source": [
        "<a href=\"https://colab.research.google.com/github/wilsonsilvestre/2770-spring-boot/blob/main/Encontro_2_TrilhaParaElasIA.ipynb\" target=\"_parent\"><img src=\"https://colab.research.google.com/assets/colab-badge.svg\" alt=\"Open In Colab\"/></a>"
      ]
    },
    {
      "cell_type": "markdown",
      "source": [
        "# Instala Bibliotecas"
      ],
      "metadata": {
        "id": "8C3L3PybbOBQ"
      }
    },
    {
      "cell_type": "code",
      "execution_count": null,
      "metadata": {
        "id": "rTHwlZFzNk3B"
      },
      "outputs": [],
      "source": [
        "pip install --upgrade pip"
      ]
    },
    {
      "cell_type": "code",
      "source": [
        "!pip install -U datasets"
      ],
      "metadata": {
        "id": "_DTGADDmGPGz"
      },
      "execution_count": null,
      "outputs": []
    },
    {
      "cell_type": "code",
      "source": [],
      "metadata": {
        "id": "vPQvpucbYYzF"
      },
      "execution_count": null,
      "outputs": []
    },
    {
      "cell_type": "markdown",
      "source": [
        "# Importa Bibliotecas"
      ],
      "metadata": {
        "id": "aBitYpmUbD7i"
      }
    },
    {
      "cell_type": "code",
      "source": [
        "#Importa biblioteca para carregar datasets do Hugging face\n",
        "from datasets import load_dataset\n",
        "#Importa biblioteca para geração de gráficos\n",
        "import matplotlib.pyplot as plt\n",
        "#Importa a biblioteca do pandas\n",
        "import pandas as pd"
      ],
      "metadata": {
        "id": "CB64vTghQhsY"
      },
      "execution_count": null,
      "outputs": []
    },
    {
      "cell_type": "markdown",
      "source": [
        "# 1. Conhecendo dataset"
      ],
      "metadata": {
        "id": "2J3OlxE9bU7l"
      }
    },
    {
      "cell_type": "code",
      "source": [
        "#Carrega dataset do Hugging face\n",
        "ds = load_dataset(\"ruanchaves/b2w-reviews01\")"
      ],
      "metadata": {
        "id": "in867iyIQnc6"
      },
      "execution_count": null,
      "outputs": []
    },
    {
      "cell_type": "code",
      "source": [
        "#Visualiza estrutura do Dataset\n"
      ],
      "metadata": {
        "id": "8sSVxeg2NpmA"
      },
      "execution_count": null,
      "outputs": []
    },
    {
      "cell_type": "code",
      "source": [
        "# Converter para DataFrame\n",
        "df = pd.DataFrame(ds['train'])\n",
        "#Dimensões do dataset (quantidade de registros e variáveis)\n"
      ],
      "metadata": {
        "id": "e6eXP6G9Q0ye"
      },
      "execution_count": null,
      "outputs": []
    },
    {
      "cell_type": "code",
      "source": [
        "#Visualiza as primeiras linhas do dataframe\n"
      ],
      "metadata": {
        "id": "S05X--z0O7EK"
      },
      "execution_count": null,
      "outputs": []
    },
    {
      "cell_type": "code",
      "source": [
        "#Visualiza as ultimas linhas do dataframe\n"
      ],
      "metadata": {
        "id": "xvbzCrbUjG0A"
      },
      "execution_count": null,
      "outputs": []
    },
    {
      "cell_type": "code",
      "source": [
        "#Visualiza as primeiras e últimas linhas do dataframe\n"
      ],
      "metadata": {
        "id": "L0NZsUREO_4h"
      },
      "execution_count": null,
      "outputs": []
    },
    {
      "cell_type": "code",
      "source": [
        "#Visualiza as colunas do dataframe\n"
      ],
      "metadata": {
        "id": "sWcFGxTlPP1o"
      },
      "execution_count": null,
      "outputs": []
    },
    {
      "cell_type": "markdown",
      "source": [
        "# 2. Distribuição das avaliações"
      ],
      "metadata": {
        "id": "cQESJJW6beUJ"
      }
    },
    {
      "cell_type": "code",
      "source": [
        "df['overall_rating'].value_counts().sort_index().plot(kind='bar')\n",
        "plt.title('Distribuição das Notas')\n",
        "plt.xlabel('Nota')\n",
        "plt.ylabel('Quantidade de Avaliações')"
      ],
      "metadata": {
        "id": "uF5caPKbQ7wP"
      },
      "execution_count": null,
      "outputs": []
    },
    {
      "cell_type": "markdown",
      "source": [
        "# 3. Distribuição proporcional das avaliações"
      ],
      "metadata": {
        "id": "c25_arnXcFoD"
      }
    },
    {
      "cell_type": "code",
      "source": [
        "#Gera gráfico de pizza. Autopct: é uma string ou função usada para rotular as partes do gráfico com seus valores numéricos\n",
        "df['overall_rating'].value_counts().sort_index().plot(kind='pie', autopct='%1.1f%%')"
      ],
      "metadata": {
        "id": "-jYkFIlfQ_SP"
      },
      "execution_count": null,
      "outputs": []
    },
    {
      "cell_type": "markdown",
      "source": [
        "# 4. Proporção de Recomendação"
      ],
      "metadata": {
        "id": "5Fty7ZYCQ8IM"
      }
    },
    {
      "cell_type": "code",
      "source": [
        "# Contar recomendações para amigo\n",
        "recommend_counts = df['recommend_to_a_friend'].value_counts()\n",
        "recommend_counts"
      ],
      "metadata": {
        "id": "PCVjM1KYQGub"
      },
      "execution_count": null,
      "outputs": []
    },
    {
      "cell_type": "code",
      "source": [
        "plt.figure(figsize=(4, 2))\n",
        "recommend_counts.plot(kind='pie', autopct='%1.2f%%', colors=['lightgreen', 'lightcoral'])\n",
        "plt.title('Recomendaria a um Amigo?')"
      ],
      "metadata": {
        "id": "Yx3kxu3kRn-L"
      },
      "execution_count": null,
      "outputs": []
    },
    {
      "cell_type": "markdown",
      "source": [
        "# 5. Distribuição por Estado"
      ],
      "metadata": {
        "id": "roYVE_cjRSGl"
      }
    },
    {
      "cell_type": "code",
      "source": [
        "plt.figure(figsize=(6, 4))\n",
        "df['reviewer_state'].value_counts().head(10).plot(kind='bar', color='blue')"
      ],
      "metadata": {
        "id": "DtdMwo01R0MR"
      },
      "execution_count": null,
      "outputs": []
    },
    {
      "cell_type": "markdown",
      "source": [
        "# 6.Nuvem de Palavras"
      ],
      "metadata": {
        "id": "n_EvbYAPSUN9"
      }
    },
    {
      "cell_type": "code",
      "source": [
        "#Importa biblioteca\n",
        "from wordcloud import WordCloud"
      ],
      "metadata": {
        "id": "LNgWoeq4TGoU"
      },
      "execution_count": null,
      "outputs": []
    },
    {
      "cell_type": "code",
      "source": [
        "#Extrai somente o texto de avaliações\n",
        "texts = df['review_text']"
      ],
      "metadata": {
        "id": "0gYlUfLvTbfM"
      },
      "execution_count": null,
      "outputs": []
    },
    {
      "cell_type": "code",
      "source": [
        "#Concatena todos os campos textos em uma string, considerando campos Nulos\n",
        "full_text = \" \".join([str(text) if text is not None else \"\" for text in texts])"
      ],
      "metadata": {
        "id": "E6R_r4ZrTlY-"
      },
      "execution_count": null,
      "outputs": []
    },
    {
      "cell_type": "code",
      "source": [
        "# Cria a word cloud\n",
        "wordcloud = WordCloud(width=800, height=400, background_color='white').generate(full_text)"
      ],
      "metadata": {
        "id": "MY5KkelVTshI"
      },
      "execution_count": null,
      "outputs": []
    },
    {
      "cell_type": "code",
      "source": [
        "# Gera a imagem\n",
        "plt.figure(figsize=(10, 5))\n",
        "plt.imshow(wordcloud, interpolation='bilinear')\n",
        "plt.axis('off')\n",
        "plt.show()"
      ],
      "metadata": {
        "id": "1BDc_gnHar8X"
      },
      "execution_count": null,
      "outputs": []
    },
    {
      "cell_type": "markdown",
      "source": [
        "# 7. Gere a nuvem de palavras desconsiderando stopwords"
      ],
      "metadata": {
        "id": "Fmn-D4p1a6TS"
      }
    },
    {
      "cell_type": "code",
      "source": [
        "#Import a biblioteca Natural Language Tookit\n",
        "import nltk\n",
        "#Importa a biblioteca que contem as stopwords\n",
        "from nltk.corpus import stopwords"
      ],
      "metadata": {
        "id": "Iy_6NXtEa4A_"
      },
      "execution_count": null,
      "outputs": []
    },
    {
      "cell_type": "code",
      "source": [
        "# Baixe\n",
        "#nltk.download('stopwords')"
      ],
      "metadata": {
        "id": "_oT-oBnmbWq1"
      },
      "execution_count": null,
      "outputs": []
    },
    {
      "cell_type": "code",
      "source": [
        "# Pegue a lista de stopwords em português\n",
        "stopwords_pt = set(stopwords.words('portuguese'))"
      ],
      "metadata": {
        "id": "8PW-RG0bbijG"
      },
      "execution_count": null,
      "outputs": []
    },
    {
      "cell_type": "code",
      "source": [
        "print(sorted(stopwords_pt))"
      ],
      "metadata": {
        "id": "9_j5_YZfbvMS"
      },
      "execution_count": null,
      "outputs": []
    },
    {
      "cell_type": "code",
      "source": [
        "# Gera word cloud eliminando stopwords\n",
        "wordcloud = WordCloud(width=800, height=400, background_color='white', stopwords=stopwords_pt).generate(full_text)"
      ],
      "metadata": {
        "id": "-P7kfG9SbxQA"
      },
      "execution_count": null,
      "outputs": []
    },
    {
      "cell_type": "code",
      "source": [
        "# Mostra a nuvem de palavras\n",
        "plt.figure(figsize=(10, 5))\n",
        "plt.imshow(wordcloud, interpolation='bilinear')\n",
        "plt.axis('off')\n",
        "plt.show()"
      ],
      "metadata": {
        "id": "qXcnlQWTdR_T"
      },
      "execution_count": null,
      "outputs": []
    },
    {
      "cell_type": "markdown",
      "source": [
        "# 8. Gerar nuvem de palavras por nota da avaliação"
      ],
      "metadata": {
        "id": "FDW0vpHbdm1A"
      }
    },
    {
      "cell_type": "code",
      "source": [
        "#Cria um novo dataframe contendo apenas os registros com nota da avaliação igual a 1.\n",
        "df_rate = df[df['overall_rating']==1]"
      ],
      "metadata": {
        "id": "YvgccCH1dUCE"
      },
      "execution_count": null,
      "outputs": []
    },
    {
      "cell_type": "code",
      "source": [
        "#Extrai somente o campo do título das avaliações\n",
        "texts_rate = df_rate['review_title']"
      ],
      "metadata": {
        "id": "cgMzFLnydwPE"
      },
      "execution_count": null,
      "outputs": []
    },
    {
      "cell_type": "code",
      "source": [
        "#Agrupa textos considerando campos nulos\n",
        "full_text_rate = \" \".join([str(text) if text is not None else \"\" for text in texts_rate])"
      ],
      "metadata": {
        "id": "AHe5AVTLeFI9"
      },
      "execution_count": null,
      "outputs": []
    },
    {
      "cell_type": "code",
      "source": [
        "# Gera wordcloud\n"
      ],
      "metadata": {
        "id": "h0ygLcx1eND_"
      },
      "execution_count": null,
      "outputs": []
    },
    {
      "cell_type": "code",
      "source": [
        "# Mostra a nuvem de palavras\n"
      ],
      "metadata": {
        "id": "7ykNm-LSePI6"
      },
      "execution_count": null,
      "outputs": []
    },
    {
      "cell_type": "markdown",
      "source": [
        "# 9. Calcular a idade"
      ],
      "metadata": {
        "id": "glDdgk54emo7"
      }
    },
    {
      "cell_type": "code",
      "source": [
        "#Converter as informações do submission_date que está string para datetime e gravar no campo \"submission_data_1\"\n",
        "df['submission_date_1'] = pd.to_datetime(df['submission_date'],errors='coerce')\n",
        "# Extrair o ano da submissão do novo campo e salvar no campo submission_year\n",
        "df['submission_year'] = df['submission_date_1'].dt.year"
      ],
      "metadata": {
        "id": "kfQbRt48epOn"
      },
      "execution_count": null,
      "outputs": []
    },
    {
      "cell_type": "code",
      "source": [
        "#Cria campo idade e calcula a idade de cada revisor\n",
        "df['idade'] = df['submission_year'] - df['reviewer_birth_year']"
      ],
      "metadata": {
        "id": "iGQ7Uw38esmj"
      },
      "execution_count": null,
      "outputs": []
    },
    {
      "cell_type": "code",
      "source": [
        "#Visualiza dataframe\n"
      ],
      "metadata": {
        "id": "5IqnES1be25n"
      },
      "execution_count": null,
      "outputs": []
    }
  ]
}