{
  "nbformat": 4,
  "nbformat_minor": 0,
  "metadata": {
    "colab": {
      "provenance": [],
      "include_colab_link": true
    },
    "kernelspec": {
      "name": "python3",
      "display_name": "Python 3"
    },
    "language_info": {
      "name": "python"
    }
  },
  "cells": [
    {
      "cell_type": "markdown",
      "metadata": {
        "id": "view-in-github",
        "colab_type": "text"
      },
      "source": [
        "<a href=\"https://colab.research.google.com/github/wilsonsilvestre/2770-spring-boot/blob/main/Atividades_TrilhaParaElas.ipynb\" target=\"_parent\"><img src=\"https://colab.research.google.com/assets/colab-badge.svg\" alt=\"Open In Colab\"/></a>"
      ]
    },
    {
      "cell_type": "markdown",
      "source": [
        "# *Atividades sobre Análise Exploratória de Dados - Trilha de IA para Elas*"
      ],
      "metadata": {
        "id": "LZqNJH5qZMeI"
      }
    },
    {
      "cell_type": "code",
      "source": [
        "!pip install -U datasets"
      ],
      "metadata": {
        "id": "eP7eVrOWZZhc"
      },
      "execution_count": null,
      "outputs": []
    },
    {
      "cell_type": "code",
      "source": [
        "#Importa biblioteca para carregar datasets do Hugging face\n",
        "from datasets import load_dataset\n",
        "#Importa biblioteca para geração de gráficos\n",
        "import matplotlib.pyplot as plt\n",
        "#Importa pandas\n",
        "import pandas as pd"
      ],
      "metadata": {
        "id": "CUAr4IJmUL8p"
      },
      "execution_count": null,
      "outputs": []
    },
    {
      "cell_type": "code",
      "source": [
        "#Carrega dataset do Hugging face\n",
        "ds = load_dataset(\"ruanchaves/b2w-reviews01\")"
      ],
      "metadata": {
        "id": "6PtZsly3UXl-"
      },
      "execution_count": null,
      "outputs": []
    },
    {
      "cell_type": "code",
      "source": [
        "# Converter para DataFrame\n",
        "df = pd.DataFrame(ds['train'])"
      ],
      "metadata": {
        "id": "37Fscc_Njvlv"
      },
      "execution_count": null,
      "outputs": []
    },
    {
      "cell_type": "markdown",
      "source": [
        "1. Gere um gráfico que mostre a distribuição do número de avaliações por gênero? Dica: Gere um gráfico de barras que represente o número de avaliações por gênero."
      ],
      "metadata": {
        "id": "Z6ZqZG2IhAMJ"
      }
    },
    {
      "cell_type": "code",
      "source": [],
      "metadata": {
        "id": "kkl9ytSvhQOg"
      },
      "execution_count": null,
      "outputs": []
    },
    {
      "cell_type": "markdown",
      "source": [
        "2. Gere um gráfico que mostre a proporção do número de avaliações por gênero? Dica: Gere um gráfico de pizza que represente a proporção de avaliações para cada gênero."
      ],
      "metadata": {
        "id": "_iv8sK9ElUFM"
      }
    },
    {
      "cell_type": "code",
      "source": [],
      "metadata": {
        "id": "3OGt4Kyplh5F"
      },
      "execution_count": null,
      "outputs": []
    },
    {
      "cell_type": "markdown",
      "source": [
        "3. Gere um gráfico de barras das 10 categorias de produtos mais avaliadas. Dica: Considere o campo \"site_category_lv1\" como categoria do produto."
      ],
      "metadata": {
        "id": "tzk_5vjcZcRZ"
      }
    },
    {
      "cell_type": "code",
      "source": [],
      "metadata": {
        "id": "WLyGLkf5h5HB"
      },
      "execution_count": null,
      "outputs": []
    },
    {
      "cell_type": "markdown",
      "source": [
        "4. Quais são os 5 produtos mais e menos avaliados? Dica: Utilize as funções head() e tail() para obter os top primeiros e os top ultimos produtos."
      ],
      "metadata": {
        "id": "kFE2SvbXhZcS"
      }
    },
    {
      "cell_type": "code",
      "source": [],
      "metadata": {
        "id": "je3g8Xp9riq6"
      },
      "execution_count": null,
      "outputs": []
    },
    {
      "cell_type": "markdown",
      "source": [
        "5. Gere um gráfico de pizza que mostre a proporção de avaliação (1-5) das top 10 categorias de produtos mais vendidas?\n",
        "\n"
      ],
      "metadata": {
        "id": "cSEFKsegeA_T"
      }
    },
    {
      "cell_type": "code",
      "source": [],
      "metadata": {
        "id": "ZYx70IMLeI8x"
      },
      "execution_count": null,
      "outputs": []
    },
    {
      "cell_type": "markdown",
      "source": [
        "6. Gere um gráfico de pizza que mostre a proporção de avaliação (1-5) dos avaliadores entre 31-40 anos?"
      ],
      "metadata": {
        "id": "G40Z2pAseJNN"
      }
    },
    {
      "cell_type": "code",
      "source": [],
      "metadata": {
        "id": "vJ-ygZKNfBAB"
      },
      "execution_count": null,
      "outputs": []
    },
    {
      "cell_type": "markdown",
      "source": [
        "7. Gere uma *wordcloud* das palavras mais frequentes encontradas nos textos das avaliações positivas (considere avaliações positivoas as notas 4 e 5)?"
      ],
      "metadata": {
        "id": "GgiXEBcrm89g"
      }
    },
    {
      "cell_type": "code",
      "source": [],
      "metadata": {
        "id": "Ga0of6j4nDSk"
      },
      "execution_count": null,
      "outputs": []
    },
    {
      "cell_type": "markdown",
      "source": [
        "8. Gere uma nuvem de palavras para cada faixa etária de idade (['<20', '21–30', '31–40', '41–50', '51–60', '60+']) considerando o título das avaliações (campo 'review_title')."
      ],
      "metadata": {
        "id": "H7vYHKG-gd_m"
      }
    },
    {
      "cell_type": "markdown",
      "source": [],
      "metadata": {
        "id": "qeQyHpQR3yDF"
      }
    },
    {
      "cell_type": "code",
      "source": [],
      "metadata": {
        "id": "Jnu8zhSdhrzS"
      },
      "execution_count": null,
      "outputs": []
    },
    {
      "cell_type": "markdown",
      "source": [
        "9. ***Desafio***: Gere um gráfico de barras com a distribuição de avaliações por faixa etária da idade. Considerar o seguinte range de faixas: '<20', '21–30', '31–40', '41–50', '51–60', '60+'"
      ],
      "metadata": {
        "id": "JSwmRf8Znr0Z"
      }
    },
    {
      "cell_type": "code",
      "source": [],
      "metadata": {
        "id": "7ygJ7dydnvD4"
      },
      "execution_count": null,
      "outputs": []
    },
    {
      "cell_type": "markdown",
      "source": [
        "10. ***Desafio***: Criar uma tabela cruzada para demonstrar a correlação entre Avaliações e Recomendação ('overall_rating') para uma amigo ('recommend_to_a_friend'). Dica: utilizar a função crosstab do pandas (https://pandas.pydata.org/docs/reference/api/pandas.crosstab.html)."
      ],
      "metadata": {
        "id": "rAE2G6abUhXo"
      }
    },
    {
      "cell_type": "code",
      "source": [],
      "metadata": {
        "id": "xjjOyv1hUMEm"
      },
      "execution_count": null,
      "outputs": []
    }
  ]
}